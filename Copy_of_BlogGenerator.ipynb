{
  "nbformat": 4,
  "nbformat_minor": 0,
  "metadata": {
    "colab": {
      "name": "Copy of BlogGenerator.ipynb",
      "provenance": [],
      "collapsed_sections": [],
      "include_colab_link": true
    },
    "kernelspec": {
      "name": "python3",
      "display_name": "Python 3"
    },
    "language_info": {
      "name": "python"
    },
    "accelerator": "GPU"
  },
  "cells": [
    {
      "cell_type": "markdown",
      "metadata": {
        "id": "view-in-github",
        "colab_type": "text"
      },
      "source": [
        "<a href=\"https://colab.research.google.com/github/Exnav29/AI-Images/blob/main/Copy_of_BlogGenerator.ipynb\" target=\"_parent\"><img src=\"https://colab.research.google.com/assets/colab-badge.svg\" alt=\"Open In Colab\"/></a>"
      ]
    },
    {
      "cell_type": "markdown",
      "metadata": {
        "id": "r1b3wQ1e6oJY"
      },
      "source": [
        "#**Install & Import Packages**"
      ]
    },
    {
      "cell_type": "code",
      "metadata": {
        "id": "SrusYVc56rmk"
      },
      "source": [
        "!pip install transformers"
      ],
      "execution_count": null,
      "outputs": []
    },
    {
      "cell_type": "code",
      "metadata": {
        "id": "o6mR9iWW6sd8"
      },
      "source": [
        "import tensorflow as tf\n",
        "from transformers import GPT2LMHeadModel, GPT2Tokenizer"
      ],
      "execution_count": null,
      "outputs": []
    },
    {
      "cell_type": "markdown",
      "metadata": {
        "id": "li2caMM56wMR"
      },
      "source": [
        "#**Getting our Tokenizer & Model**"
      ]
    },
    {
      "cell_type": "code",
      "metadata": {
        "id": "WcCr7gDW63TH"
      },
      "source": [
        "tokenizer = GPT2Tokenizer.from_pretrained(\"gpt2-large\")\n",
        "model = GPT2LMHeadModel.from_pretrained(\"gpt2-large\", pad_token_id=tokenizer.eos_token_id)"
      ],
      "execution_count": null,
      "outputs": []
    },
    {
      "cell_type": "markdown",
      "metadata": {
        "id": "cGRtFOO-63q4"
      },
      "source": [
        "#**Tokenize**"
      ]
    },
    {
      "cell_type": "code",
      "metadata": {
        "id": "dNUHslTF698H"
      },
      "source": [
        "blog_title = \"What is Financial Security?\"\n",
        "\n",
        "input = tokenizer.encode(blog_title, return_tensors='pt')"
      ],
      "execution_count": null,
      "outputs": []
    },
    {
      "cell_type": "code",
      "metadata": {
        "id": "xIj_q2nR9SMV"
      },
      "source": [
        "input"
      ],
      "execution_count": null,
      "outputs": []
    },
    {
      "cell_type": "markdown",
      "metadata": {
        "id": "dcBAJ_AH6_u9"
      },
      "source": [
        "#**Generate!**"
      ]
    },
    {
      "cell_type": "code",
      "metadata": {
        "id": "AD9J0YQP7Bax"
      },
      "source": [
        "output = model.generate(input, max_length=200, num_beams=5, no_repeat_ngram_size=2, early_stopping=True)"
      ],
      "execution_count": null,
      "outputs": []
    },
    {
      "cell_type": "code",
      "metadata": {
        "id": "ShakYXuG7Det"
      },
      "source": [
        "print(tokenizer.decode(output[0], skip_special_tokens=True))"
      ],
      "execution_count": null,
      "outputs": []
    }
  ]
}